{
 "cells": [
  {
   "cell_type": "code",
   "execution_count": 14,
   "id": "d405adcd-9738-4eb1-9a05-bdbd6aeff272",
   "metadata": {},
   "outputs": [],
   "source": [
    "import pandas as pd\n",
    "\n",
    "df = pd.read_excel('/Users/Grace/Desktop/2025-studio/project-2/top_shorts_and_hats.xlsx')"
   ]
  },
  {
   "cell_type": "code",
   "execution_count": 4,
   "id": "a5b7cda5-6c01-4e8b-8224-fbe39312b1e1",
   "metadata": {},
   "outputs": [],
   "source": [
    "university_totals = df.groupby('University')['Price'].sum()\n",
    "\n",
    "top_5_unis = university_totals.nlargest(5).index\n",
    "bottom_5_unis = university_totals.nsmallest(5).index\n",
    "\n",
    "result = df[df['University'].isin(list(top_5_unis) + list(bottom_5_unis))].copy()\n",
    "\n",
    "result['Category'] = result['University'].apply(\n",
    "    lambda x: 'Most Expensive' if x in top_5_unis else 'Least Expensive'\n",
    ")\n",
    "result = result.sort_values(['Category', 'University', 'Product_category'])\n",
    "\n",
    "result.to_excel('university_price_analysis_detailed.xlsx', index=False)\n"
   ]
  },
  {
   "cell_type": "code",
   "execution_count": 16,
   "id": "ab12ade0-1f2d-458c-bcb4-f39b17980faf",
   "metadata": {},
   "outputs": [],
   "source": [
    "# Create a pivot table to get prices for each product category per university\n",
    "pivot = df.pivot_table(\n",
    "    index='University',\n",
    "    columns='Product_category',\n",
    "    values='Price',\n",
    "    aggfunc='first'  # In case there are multiple items per category\n",
    ")\n",
    "\n",
    "# Calculate total cost (top + shorts + hat)\n",
    "pivot['total_cost'] = pivot['top'] + pivot['shorts'] + pivot['hat']\n",
    "\n",
    "# Reset index to make University a column\n",
    "result = pivot[['top', 'shorts', 'hat', 'total_cost']].reset_index()\n",
    "\n",
    "# Round to 2 decimal places\n",
    "result = result.round(2)\n",
    "\n",
    "result.to_excel('university_price_analysis_sum.xlsx', index=False)"
   ]
  },
  {
   "cell_type": "code",
   "execution_count": null,
   "id": "1e1ffd12-4604-45e4-9569-fcdf0874d094",
   "metadata": {},
   "outputs": [],
   "source": []
  }
 ],
 "metadata": {
  "kernelspec": {
   "display_name": "Python 3 (ipykernel)",
   "language": "python",
   "name": "python3"
  },
  "language_info": {
   "codemirror_mode": {
    "name": "ipython",
    "version": 3
   },
   "file_extension": ".py",
   "mimetype": "text/x-python",
   "name": "python",
   "nbconvert_exporter": "python",
   "pygments_lexer": "ipython3",
   "version": "3.12.7"
  }
 },
 "nbformat": 4,
 "nbformat_minor": 5
}
