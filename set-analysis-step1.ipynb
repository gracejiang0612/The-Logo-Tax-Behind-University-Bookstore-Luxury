{
 "cells": [
  {
   "cell_type": "code",
   "execution_count": 11,
   "id": "e5a6c029-6663-489b-9b5e-2ab6ca6f2a71",
   "metadata": {},
   "outputs": [
    {
     "name": "stdout",
     "output_type": "stream",
     "text": [
      "                             University     Brand            Store_type  \\\n",
      "36                       Boston College        MV  University Bookstore   \n",
      "136                      Boston College       NaN  University Bookstore   \n",
      "86                       Boston College       NaN  University Bookstore   \n",
      "140                   Boston University       NaN  University Bookstore   \n",
      "90                    Boston University       NaN  University Bookstore   \n",
      "..                                  ...       ...                   ...   \n",
      "72   Washington University in St. Louis       NaN  University Bookstore   \n",
      "22   Washington University in St. Louis       NaN  University Bookstore   \n",
      "105                     Yale University  champion  University Bookstore   \n",
      "55                      Yale University       NaN  University Bookstore   \n",
      "5                       Yale University        MV  University Bookstore   \n",
      "\n",
      "    Store_location Product_category  Price  Brand-price  \\\n",
      "36             NaN              top  16.95          NaN   \n",
      "136            NaN              hat  20.00          NaN   \n",
      "86             NaN           shorts  30.00          NaN   \n",
      "140            NaN              hat  21.99          NaN   \n",
      "90             NaN           shorts  34.98          NaN   \n",
      "..             ...              ...    ...          ...   \n",
      "72             NaN           shorts  30.00          NaN   \n",
      "22             NaN              top  14.95          NaN   \n",
      "105            NaN              hat  27.98          NaN   \n",
      "55             NaN           shorts  34.98          NaN   \n",
      "5              NaN              top  16.00          NaN   \n",
      "\n",
      "                                                  Link  \n",
      "36   https://www.bkstr.com/bostoncollegestore/produ...  \n",
      "136  https://www.bkstr.com/bostoncollegestore/produ...  \n",
      "86   https://www.bkstr.com/bostoncollegestore/produ...  \n",
      "140  https://bu.shoptruespirit.com/boston-universit...  \n",
      "90   https://bu.shoptruespirit.com/boston-universit...  \n",
      "..                                                 ...  \n",
      "72   https://www.bkstr.com/washingtonstore/product/...  \n",
      "22   https://www.bkstr.com/washingtonstore/product/...  \n",
      "105  https://yale.shoptruespirit.com/yale-bulldogs-...  \n",
      "55   https://yale.shoptruespirit.com/yale-bulldogs-...  \n",
      "5    https://yale.shoptruespirit.com/yale-bulldogs-...  \n",
      "\n",
      "[150 rows x 8 columns]\n"
     ]
    }
   ],
   "source": [
    "import pandas as pd\n",
    "\n",
    "df = pd.read_excel('/Users/Grace/Desktop/2025-studio/project-2/top50-set.xlsx')\n",
    "\n",
    "top_top = df[df['Product_category'].str.contains('top', case=False, na=False)].groupby('University').head(1)\n",
    "top_shorts = df[df['Product_category'].str.contains('Shorts', case=False, na=False)].groupby('University').head(1)\n",
    "top_hats = df[df['Product_category'].str.contains('Hat', case=False, na=False)].groupby('University').head(1)\n",
    "\n",
    "top_items = pd.concat([top_top, top_shorts, top_hats]).reset_index(drop=True)\n",
    "\n",
    "top_items = top_items.sort_values('University')\n",
    "\n",
    "top_items.to_excel('top_shorts_and_hats.xlsx', index=False)"
   ]
  },
  {
   "cell_type": "code",
   "execution_count": null,
   "id": "8a96c4a4-9fb2-4bec-8ec4-6fe353a9e11f",
   "metadata": {},
   "outputs": [],
   "source": []
  }
 ],
 "metadata": {
  "kernelspec": {
   "display_name": "Python 3 (ipykernel)",
   "language": "python",
   "name": "python3"
  },
  "language_info": {
   "codemirror_mode": {
    "name": "ipython",
    "version": 3
   },
   "file_extension": ".py",
   "mimetype": "text/x-python",
   "name": "python",
   "nbconvert_exporter": "python",
   "pygments_lexer": "ipython3",
   "version": "3.12.7"
  }
 },
 "nbformat": 4,
 "nbformat_minor": 5
}
