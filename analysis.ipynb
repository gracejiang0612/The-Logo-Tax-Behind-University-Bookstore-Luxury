{
 "cells": [
  {
   "cell_type": "code",
   "execution_count": 4,
   "id": "69ab03fa-92c5-45c4-81a2-3a242ca0aedc",
   "metadata": {},
   "outputs": [
    {
     "name": "stdout",
     "output_type": "stream",
     "text": [
      "Collecting openpyxl\n",
      "  Using cached openpyxl-3.1.5-py2.py3-none-any.whl.metadata (2.5 kB)\n",
      "Collecting et-xmlfile (from openpyxl)\n",
      "  Using cached et_xmlfile-2.0.0-py3-none-any.whl.metadata (2.7 kB)\n",
      "Using cached openpyxl-3.1.5-py2.py3-none-any.whl (250 kB)\n",
      "Using cached et_xmlfile-2.0.0-py3-none-any.whl (18 kB)\n",
      "Installing collected packages: et-xmlfile, openpyxl\n",
      "Successfully installed et-xmlfile-2.0.0 openpyxl-3.1.5\n",
      "\n",
      "\u001b[1m[\u001b[0m\u001b[34;49mnotice\u001b[0m\u001b[1;39;49m]\u001b[0m\u001b[39;49m A new release of pip is available: \u001b[0m\u001b[31;49m25.0\u001b[0m\u001b[39;49m -> \u001b[0m\u001b[32;49m25.0.1\u001b[0m\n",
      "\u001b[1m[\u001b[0m\u001b[34;49mnotice\u001b[0m\u001b[1;39;49m]\u001b[0m\u001b[39;49m To update, run: \u001b[0m\u001b[32;49mpip install --upgrade pip\u001b[0m\n",
      "Note: you may need to restart the kernel to use updated packages.\n"
     ]
    }
   ],
   "source": [
    "pip install openpyxl"
   ]
  },
  {
   "cell_type": "code",
   "execution_count": 2,
   "id": "085789ae-a7a6-4ad2-92fa-c3459851f49b",
   "metadata": {},
   "outputs": [],
   "source": [
    "import pandas as pd\n",
    "\n",
    "df = pd.read_excel('/Users/Grace/Desktop/2025-studio/project-2/bookstore-dataset.xlsx', engine='openpyxl')\n",
    "\n",
    "pennant_df = df[df['Product_category'].str.contains('pennant', case=False, na=False)]\n",
    "\n",
    "pennant_df.to_csv('pennant.csv', index=False)"
   ]
  },
  {
   "cell_type": "code",
   "execution_count": 8,
   "id": "42116fa0-8753-49c7-b6ad-5fe323c051c8",
   "metadata": {},
   "outputs": [
    {
     "name": "stdout",
     "output_type": "stream",
     "text": [
      "Number of Barnes & Noble College collaborations: 19\n",
      "\n",
      "Collaborating rows:\n",
      "0     collaborate with Barnes&Noble College\n",
      "23    collaborate with Barnes&Noble College\n",
      "26    collaborate with Barnes&Noble College\n",
      "27    collaborate with Barnes&Noble College\n",
      "28    collaborate with Barnes&Noble College\n",
      "36    collaborate with Barnes&Noble College\n",
      "39    collaborate with Barnes&Noble College\n",
      "41    collaborate with Barnes&Noble College\n",
      "42    collaborate with Barnes&Noble College\n",
      "44    collaborate with Barnes&Noble College\n",
      "50    collaborate with Barnes&Noble College\n",
      "52    collaborate with Barnes&Noble College\n",
      "55    collaborate with Barnes&Noble College\n",
      "58    collaborate with Barnes&Noble College\n",
      "60    collaborate with Barnes&Noble College\n",
      "61    collaborate with Barnes&Noble College\n",
      "62    collaborate with Barnes&Noble College\n",
      "63    collaborate with Barnes&Noble College\n",
      "68    collaborate with Barnes&Noble College\n",
      "Name: Note, dtype: object\n"
     ]
    }
   ],
   "source": [
    "def count_barnes_noble_collaborations(df):\n",
    "    patterns = ['barnes&noble college', 'barnes & noble college']\n",
    "    mask = df['Note'].str.lower().str.contains('|'.join(patterns), na=False)\n",
    "    collaboration_count = mask.sum()\n",
    "    collaboration_rows = df[mask]\n",
    "    \n",
    "    print(f\"Number of Barnes & Noble College collaborations: {collaboration_count}\")\n",
    "    print(\"\\nCollaborating rows:\")\n",
    "    print(collaboration_rows['Note'])\n",
    "    \n",
    "    return collaboration_count, collaboration_rows\n",
    "\n",
    "count, rows = count_barnes_noble_collaborations(df)"
   ]
  },
  {
   "cell_type": "code",
   "execution_count": null,
   "id": "4eb87b54-1f2c-40b5-8d8c-4450ae7b9f17",
   "metadata": {},
   "outputs": [],
   "source": []
  }
 ],
 "metadata": {
  "kernelspec": {
   "display_name": "Python 3 (ipykernel)",
   "language": "python",
   "name": "python3"
  },
  "language_info": {
   "codemirror_mode": {
    "name": "ipython",
    "version": 3
   },
   "file_extension": ".py",
   "mimetype": "text/x-python",
   "name": "python",
   "nbconvert_exporter": "python",
   "pygments_lexer": "ipython3",
   "version": "3.12.7"
  }
 },
 "nbformat": 4,
 "nbformat_minor": 5
}
